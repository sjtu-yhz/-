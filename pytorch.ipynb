{
 "cells": [
  {
   "cell_type": "markdown",
   "metadata": {},
   "source": [
    "# Pytorch Tutorial"
   ]
  },
  {
   "cell_type": "markdown",
   "metadata": {},
   "source": [
    "Pytorch is a popular deep learning framework and it's easy to get started."
   ]
  },
  {
   "cell_type": "code",
   "execution_count": 42,
   "metadata": {},
   "outputs": [],
   "source": [
    "import torch\n",
    "import torch.nn as nn\n",
    "import torch.utils.data as data\n",
    "import torchvision\n",
    "import torchvision.transforms as transforms\n",
    "from tqdm import tqdm\n",
    "import time\n",
    "import torch.nn.functional as torch_func\n",
    "\n",
    "BATCH_SIZE = 128\n",
    "NUM_EPOCHS = 10"
   ]
  },
  {
   "cell_type": "markdown",
   "metadata": {},
   "source": [
    "First, we read the mnist data, preprocess them and encapsulate them into dataloader form."
   ]
  },
  {
   "cell_type": "code",
   "execution_count": 43,
   "metadata": {},
   "outputs": [],
   "source": [
    "# preprocessing\n",
    "normalize = transforms.Normalize(mean=[.5], std=[.5])\n",
    "transform = transforms.Compose([transforms.ToTensor(), normalize])\n",
    "\n",
    "# download and load the data\n",
    "train_dataset = torchvision.datasets.MNIST(root='./mnist/', train=True, transform=transform, download=True)\n",
    "test_dataset = torchvision.datasets.MNIST(root='./mnist/', train=False, transform=transform, download=False)\n",
    "\n",
    "# encapsulate them into dataloader form\n",
    "train_loader = data.DataLoader(train_dataset, batch_size=BATCH_SIZE, shuffle=True, drop_last=True)\n",
    "test_loader = data.DataLoader(test_dataset, batch_size=BATCH_SIZE, shuffle=False, drop_last=True)"
   ]
  },
  {
   "cell_type": "markdown",
   "metadata": {},
   "source": [
    "Then, we define the model, object function and optimizer that we use to classify."
   ]
  },
  {
   "cell_type": "code",
   "execution_count": 44,
   "metadata": {},
   "outputs": [],
   "source": [
    "class SimpleNet(nn.Module):\n",
    "# TODO:define model\n",
    "    def __init__(self):\n",
    "        super().__init__()\n",
    "        self.conv1=nn.Conv2d(1,10,5)\n",
    "        self.conv2=nn.Conv2d(10,20,3)\n",
    "        self.func1 = nn.Linear(20*10*10,500)\n",
    "        self.func2 = nn.Linear(500,10)\n",
    "    def forward(self,x):\n",
    "        in_size = x.size(0)\n",
    "        out = torch_func.relu(self.conv1(x))\n",
    "        out = torch_func.max_pool2d(out, 2, 2)\n",
    "        out = torch_func.relu(self.conv2(out))\n",
    "        out = out.view(in_size,-1)\n",
    "        out = torch_func.relu(self.func1(out))\n",
    "        out = torch_func.log_softmax(self.func2(out),dim=1)\n",
    "        return out\n",
    "\n",
    "\n",
    "import torch.optim\n",
    "device = torch.device(\"cuda\" if torch.cuda.is_available() else \"cpu\") # 让torch判断是否使用GPU\n",
    "model = SimpleNet().to(DEVICE)\n",
    "#criterion = LossCriterion()\n",
    "optimizer = torch.optim.Adam(model.parameters())"
   ]
  },
  {
   "cell_type": "markdown",
   "metadata": {},
   "source": [
    "Next, we can start to train and evaluate!"
   ]
  },
  {
   "cell_type": "code",
   "execution_count": 52,
   "metadata": {
    "scrolled": true
   },
   "outputs": [
    {
     "name": "stdout",
     "output_type": "stream",
     "text": [
      "\n",
      "Test set: Average loss: 0.0271, Accuracy: 9903/10000 (99%)\n",
      "\n",
      "\n",
      "Test set: Average loss: 0.0319, Accuracy: 9897/10000 (99%)\n",
      "\n",
      "\n",
      "Test set: Average loss: 0.0323, Accuracy: 9895/10000 (99%)\n",
      "\n",
      "\n",
      "Test set: Average loss: 0.0411, Accuracy: 9876/10000 (99%)\n",
      "\n",
      "\n",
      "Test set: Average loss: 0.0360, Accuracy: 9888/10000 (99%)\n",
      "\n",
      "\n",
      "Test set: Average loss: 0.0357, Accuracy: 9893/10000 (99%)\n",
      "\n",
      "\n",
      "Test set: Average loss: 0.0521, Accuracy: 9861/10000 (99%)\n",
      "\n",
      "\n",
      "Test set: Average loss: 0.0366, Accuracy: 9890/10000 (99%)\n",
      "\n",
      "\n",
      "Test set: Average loss: 0.0386, Accuracy: 9892/10000 (99%)\n",
      "\n",
      "\n",
      "Test set: Average loss: 0.0381, Accuracy: 9900/10000 (99%)\n",
      "\n"
     ]
    }
   ],
   "source": [
    "# train and evaluate\n",
    "for epoch in range(NUM_EPOCHS):\n",
    "    model.train()\n",
    "    for batch_idx, (images, labels) in enumerate(train_loader):\n",
    "        images, labels = images.to(device), labels.to(device)\n",
    "        optimizer.zero_grad()\n",
    "        output = model(images)\n",
    "        loss = torch_func.nll_loss(output, labels)\n",
    "        loss.backward()\n",
    "        optimizer.step()\n",
    "    model.eval()\n",
    "    test_loss = 0\n",
    "    correct_num = 0\n",
    "    with torch.no_grad():\n",
    "        for images, labels in test_loader:\n",
    "            images, labels = images.to(device), labels.to(device)\n",
    "            output = model(images)\n",
    "            test_loss += torch_func.nll_loss(output, labels, reduction='sum').item() # 损失求和\n",
    "            pred = output.max(1, keepdim=True)[1]                                    # 找到概率最大的类别\n",
    "            correct_num += pred.eq(labels.view_as(pred)).sum().item()\n",
    "\n",
    "    test_loss =test_loss/len(test_loader.dataset)\n",
    "    print('\\nTest set: Average loss: {:.4f}, Accuracy: {}/{} ({:.0f}%)\\n'.format(\n",
    "        test_loss, correct_num, len(test_loader.dataset),\n",
    "        100. * correct_num / len(test_loader.dataset)))\n",
    "    \n"
   ]
  },
  {
   "cell_type": "markdown",
   "metadata": {},
   "source": [
    "#### Q5:\n",
    "Please print the training and testing accuracy."
   ]
  }
 ],
 "metadata": {
  "kernelspec": {
   "display_name": "Python 3",
   "language": "python",
   "name": "python3"
  },
  "language_info": {
   "codemirror_mode": {
    "name": "ipython",
    "version": 3
   },
   "file_extension": ".py",
   "mimetype": "text/x-python",
   "name": "python",
   "nbconvert_exporter": "python",
   "pygments_lexer": "ipython3",
   "version": "3.6.5"
  }
 },
 "nbformat": 4,
 "nbformat_minor": 2
}
